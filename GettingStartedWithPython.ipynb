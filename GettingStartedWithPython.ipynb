{
  "nbformat": 4,
  "nbformat_minor": 0,
  "metadata": {
    "colab": {
      "provenance": []
    },
    "kernelspec": {
      "name": "python3",
      "display_name": "Python 3"
    },
    "language_info": {
      "name": "python"
    }
  },
  "cells": [
    {
      "cell_type": "code",
      "execution_count": 1,
      "metadata": {
        "colab": {
          "base_uri": "https://localhost:8080/"
        },
        "id": "fqU3nDFI2UIa",
        "outputId": "35971bd6-d5d0-44a6-d085-057e310707d1"
      },
      "outputs": [
        {
          "output_type": "stream",
          "name": "stdout",
          "text": [
            "Hello, World!\n"
          ]
        }
      ],
      "source": [
        "# Simple Python Program to Print \"Hello, World\"\n",
        "print(\"Hello, World!\")"
      ]
    },
    {
      "cell_type": "code",
      "source": [
        "# Example of Python's somplivity: Swapping to variables\n",
        "a,b = 5,10\n",
        "print(\"Before swapping: a = \", a, \", b = \", b)\n",
        "a,b = b,a\n",
        "print(\"After swapping: a = \", a, \", b = \", b)\n",
        "\n"
      ],
      "metadata": {
        "colab": {
          "base_uri": "https://localhost:8080/"
        },
        "id": "9vqYsOj92xOJ",
        "outputId": "23729604-4d21-42ba-ab67-ba07b5c206a7"
      },
      "execution_count": 4,
      "outputs": [
        {
          "output_type": "stream",
          "name": "stdout",
          "text": [
            "Before swapping: a =  5 , b =  10\n",
            "After swapping: a =  10 , b =  5\n"
          ]
        }
      ]
    }
  ]
}