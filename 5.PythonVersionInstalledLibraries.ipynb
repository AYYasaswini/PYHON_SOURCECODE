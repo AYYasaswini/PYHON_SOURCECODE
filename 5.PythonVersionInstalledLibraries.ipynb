{
  "nbformat": 4,
  "nbformat_minor": 0,
  "metadata": {
    "colab": {
      "provenance": [],
      "authorship_tag": "ABX9TyNr3yZZ4qsOJ0Jte05We179",
      "include_colab_link": true
    },
    "kernelspec": {
      "name": "python3",
      "display_name": "Python 3"
    },
    "language_info": {
      "name": "python"
    }
  },
  "cells": [
    {
      "cell_type": "markdown",
      "metadata": {
        "id": "view-in-github",
        "colab_type": "text"
      },
      "source": [
        "<a href=\"https://colab.research.google.com/github/AYYasaswini/PYHON_SOURCECODE/blob/main/PythonVersionInstalledLibraries.ipynb\" target=\"_parent\"><img src=\"https://colab.research.google.com/assets/colab-badge.svg\" alt=\"Open In Colab\"/></a>"
      ]
    },
    {
      "cell_type": "code",
      "execution_count": 3,
      "metadata": {
        "colab": {
          "base_uri": "https://localhost:8080/"
        },
        "id": "fDOZNgOhcvS9",
        "outputId": "b1c21a2b-f326-4e3f-99f9-fdabcbedb161"
      },
      "outputs": [
        {
          "output_type": "stream",
          "name": "stdout",
          "text": [
            "===== Python Version =====\n",
            "3.12.12 (main, Oct 10 2025, 08:52:57) [GCC 11.4.0]\n",
            "\n",
            "===== Library Availability =====\n",
            "os library is available and successfully loaded.\n",
            "sys library is available and successfully loaded.\n",
            "math library is available and successfully loaded.\n"
          ]
        }
      ],
      "source": [
        "import sys\n",
        "\n",
        "def check_python_and_libraries():\n",
        "    # Display the current Python version\n",
        "    print(\"===== Python Version =====\")\n",
        "    print(sys.version)\n",
        "    print()\n",
        "\n",
        "    # List of commonly used libraries to check\n",
        "    libraries = [\"os\", \"sys\", \"math\"]\n",
        "\n",
        "    print(\"===== Library Availability =====\")\n",
        "    for lib in libraries:\n",
        "        try:\n",
        "            __import__(lib)\n",
        "            print(f\"{lib} library is available and successfully loaded.\")\n",
        "        except ImportError:\n",
        "            print(f\"{lib} library is NOT available.\")\n",
        "\n",
        "# Run the function\n",
        "check_python_and_libraries()\n"
      ]
    }
  ]
}
