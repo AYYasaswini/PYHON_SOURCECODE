{
  "nbformat": 4,
  "nbformat_minor": 0,
  "metadata": {
    "colab": {
      "provenance": [],
      "authorship_tag": "ABX9TyOlg9oirb+kxhCZD2KMLmvZ",
      "include_colab_link": true
    },
    "kernelspec": {
      "name": "python3",
      "display_name": "Python 3"
    },
    "language_info": {
      "name": "python"
    }
  },
  "cells": [
    {
      "cell_type": "markdown",
      "metadata": {
        "id": "view-in-github",
        "colab_type": "text"
      },
      "source": [
        "<a href=\"https://colab.research.google.com/github/AYYasaswini/PYHON_SOURCECODE/blob/main/FirstNameLastName.ipynb\" target=\"_parent\"><img src=\"https://colab.research.google.com/assets/colab-badge.svg\" alt=\"Open In Colab\"/></a>"
      ]
    },
    {
      "cell_type": "code",
      "execution_count": null,
      "metadata": {
        "colab": {
          "base_uri": "https://localhost:8080/"
        },
        "id": "3D3MTnDhWNPo",
        "outputId": "7a54f411-1acc-4fc9-cd78-2fba2ca34afe"
      },
      "outputs": [
        {
          "output_type": "stream",
          "name": "stdout",
          "text": [
            "Please enter your first name: Yasaswini\n",
            "Please enter your last name: AY\n",
            "Hello Yasaswini AY! Welcome to Python programming.\n"
          ]
        }
      ],
      "source": [
        "def greet_user():\n",
        "    # Ask the user for their first and last name\n",
        "    first_name = input(\"Please enter your first name: \")\n",
        "    last_name = input(\"Please enter your last name: \")\n",
        "\n",
        "    # Display a greeting message\n",
        "    print(f\"Hello {first_name} {last_name}! Welcome to Python programming.\")\n",
        "\n",
        "# Call the function\n",
        "greet_user()"
      ]
    },
    {
      "cell_type": "code",
      "source": [
        "def great_user(first_name, last_name):\n",
        "  print(f\"Hello {first_name} {last_name}! Welcome to Python programming.\")\n",
        "\n",
        "first_name = input(\"Please enter your first name: \")\n",
        "first_name_trim = first_name.replace(\" \", \"\")\n",
        "last_name = input(\"Please enter your last name: \")\n",
        "last_name_trim = last_name.replace(\" \", \"\")\n",
        "great_user(first_name_trim, last_name_trim)\n"
      ],
      "metadata": {
        "colab": {
          "base_uri": "https://localhost:8080/"
        },
        "id": "5tW21kERWtzw",
        "outputId": "51aea543-6797-4313-abdb-7645c3c62341"
      },
      "execution_count": null,
      "outputs": [
        {
          "output_type": "stream",
          "name": "stdout",
          "text": [
            "Please enter your first name:   yasaswini\n",
            "Please enter your last name: A Y\n",
            "Hello yasaswini AY! Welcome to Python programming.\n"
          ]
        }
      ]
    },
    {
      "cell_type": "code",
      "source": [
        "    def greet_user(first_name, last_name):\n",
        "      print(f\"Hello {first_name} {last_name}! Welcome to Python programming.\")\n",
        "    first_name = input(\"Enter your first name: \").strip()\n",
        "    last_name = input(\"Enter your last name: \").strip()\n",
        "    greet_user(first_name, last_name)"
      ],
      "metadata": {
        "colab": {
          "base_uri": "https://localhost:8080/"
        },
        "id": "cG9GCQ6QYRxm",
        "outputId": "63a83389-ca24-4102-b17a-40fd9d298bd6"
      },
      "execution_count": 3,
      "outputs": [
        {
          "output_type": "stream",
          "name": "stdout",
          "text": [
            "Enter your first name:    YAS\n",
            "Enter your last name:   A Y\n",
            "Hello YAS A Y! Welcome to Python programming.\n"
          ]
        }
      ]
    }
  ]
}
