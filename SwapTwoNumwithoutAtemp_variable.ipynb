{
  "nbformat": 4,
  "nbformat_minor": 0,
  "metadata": {
    "colab": {
      "provenance": [],
      "authorship_tag": "ABX9TyN5CC+2kqJitkj4rAJOByAX",
      "include_colab_link": true
    },
    "kernelspec": {
      "name": "python3",
      "display_name": "Python 3"
    },
    "language_info": {
      "name": "python"
    }
  },
  "cells": [
    {
      "cell_type": "markdown",
      "metadata": {
        "id": "view-in-github",
        "colab_type": "text"
      },
      "source": [
        "<a href=\"https://colab.research.google.com/github/AYYasaswini/PYHON_SOURCECODE/blob/main/SwapTwoNumwithoutAtemp_variable.ipynb\" target=\"_parent\"><img src=\"https://colab.research.google.com/assets/colab-badge.svg\" alt=\"Open In Colab\"/></a>"
      ]
    },
    {
      "cell_type": "code",
      "execution_count": 3,
      "metadata": {
        "colab": {
          "base_uri": "https://localhost:8080/"
        },
        "id": "-NVvhTH7Xayx",
        "outputId": "2675e93d-6845-41c8-d641-ad068689352a"
      },
      "outputs": [
        {
          "output_type": "stream",
          "name": "stdout",
          "text": [
            "Please entthe first number: 10\n",
            "Please entthe second number: 20\n",
            "The first number 10 The second number 20\n",
            "After Swap The first number 20 The second number 10\n"
          ]
        }
      ],
      "source": [
        " a = int(input(\"Please entthe first number: \"))\n",
        " b = int(input(\"Please entthe second number: \"))\n",
        " print(f\"The first number {a} The second number {b}\")\n",
        " a,b = b,a\n",
        " print(f\"After Swap The first number {a} The second number {b}\")"
      ]
    }
  ]
}