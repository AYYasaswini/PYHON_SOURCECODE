{
  "nbformat": 4,
  "nbformat_minor": 0,
  "metadata": {
    "colab": {
      "provenance": [],
      "authorship_tag": "ABX9TyMaNGpl3HRBlhy4yyuR+wNC",
      "include_colab_link": true
    },
    "kernelspec": {
      "name": "python3",
      "display_name": "Python 3"
    },
    "language_info": {
      "name": "python"
    }
  },
  "cells": [
    {
      "cell_type": "markdown",
      "metadata": {
        "id": "view-in-github",
        "colab_type": "text"
      },
      "source": [
        "<a href=\"https://colab.research.google.com/github/AYYasaswini/PYHON_SOURCECODE/blob/main/SwapTwoNumWithAtemp_variable.ipynb\" target=\"_parent\"><img src=\"https://colab.research.google.com/assets/colab-badge.svg\" alt=\"Open In Colab\"/></a>"
      ]
    },
    {
      "cell_type": "code",
      "execution_count": 6,
      "metadata": {
        "colab": {
          "base_uri": "https://localhost:8080/"
        },
        "id": "-NVvhTH7Xayx",
        "outputId": "3ee2c9b6-80d6-4564-b00a-08d468a35f96"
      },
      "outputs": [
        {
          "output_type": "stream",
          "name": "stdout",
          "text": [
            "Please enter the first number: 5\n",
            "Please enter the second number: 7\n",
            "The first number 5 The second number 7\n",
            "After Swap The first number 7 The second number 7\n"
          ]
        }
      ],
      "source": [
        " a = int(input(\"Please enter the first number: \"))\n",
        " b = int(input(\"Please enter the second number: \"))\n",
        " print(f\"The first number {a} The second number {b}\")\n",
        " temp = a\n",
        " a = b\n",
        " b = a\n",
        " print(f\"After Swap The first number {a} The second number {b}\")"
      ]
    }
  ]
}