{
  "nbformat": 4,
  "nbformat_minor": 0,
  "metadata": {
    "colab": {
      "provenance": [],
      "authorship_tag": "ABX9TyMbjgJkHkaV73ob4ymulyQm",
      "include_colab_link": true
    },
    "kernelspec": {
      "name": "python3",
      "display_name": "Python 3"
    },
    "language_info": {
      "name": "python"
    }
  },
  "cells": [
    {
      "cell_type": "markdown",
      "metadata": {
        "id": "view-in-github",
        "colab_type": "text"
      },
      "source": [
        "<a href=\"https://colab.research.google.com/github/AYYasaswini/PYHON_SOURCECODE/blob/main/FirstNameLastName.ipynb\" target=\"_parent\"><img src=\"https://colab.research.google.com/assets/colab-badge.svg\" alt=\"Open In Colab\"/></a>"
      ]
    },
    {
      "cell_type": "code",
      "execution_count": 1,
      "metadata": {
        "colab": {
          "base_uri": "https://localhost:8080/"
        },
        "id": "3D3MTnDhWNPo",
        "outputId": "7a54f411-1acc-4fc9-cd78-2fba2ca34afe"
      },
      "outputs": [
        {
          "output_type": "stream",
          "name": "stdout",
          "text": [
            "Please enter your first name: Yasaswini\n",
            "Please enter your last name: AY\n",
            "Hello Yasaswini AY! Welcome to Python programming.\n"
          ]
        }
      ],
      "source": [
        "def greet_user():\n",
        "    # Ask the user for their first and last name\n",
        "    first_name = input(\"Please enter your first name: \")\n",
        "    last_name = input(\"Please enter your last name: \")\n",
        "\n",
        "    # Display a greeting message\n",
        "    print(f\"Hello {first_name} {last_name}! Welcome to Python programming.\")\n",
        "\n",
        "# Call the function\n",
        "greet_user()"
      ]
    },
    {
      "cell_type": "code",
      "source": [
        "def great_user(first_name, last_name):\n",
        "  print(f\"Hello {first_name} {last_name}! Welcome to Python programming.\")\n",
        "\n",
        "first_name = input(\"Please enter your first name: \")\n",
        "last_name = input(\"Please enter your last name: \")\n",
        "great_user(first_name, last_name)\n"
      ],
      "metadata": {
        "colab": {
          "base_uri": "https://localhost:8080/"
        },
        "id": "5tW21kERWtzw",
        "outputId": "712ce3a4-971f-4b34-8c26-0ee3dfdb2a90"
      },
      "execution_count": 2,
      "outputs": [
        {
          "output_type": "stream",
          "name": "stdout",
          "text": [
            "Please enter your first name: Yasaswini\n",
            "Please enter your last name: AY\n",
            "Hello Yasaswini AY! Welcome to Python programming.\n"
          ]
        }
      ]
    }
  ]
}